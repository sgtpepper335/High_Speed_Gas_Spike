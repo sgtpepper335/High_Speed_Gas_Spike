{
 "cells": [
  {
   "cell_type": "code",
   "execution_count": 6,
   "metadata": {},
   "outputs": [
    {
     "ename": "ModuleNotFoundError",
     "evalue": "No module named 'src'",
     "output_type": "error",
     "traceback": [
      "\u001b[0;31m---------------------------------------------------------------------------\u001b[0m",
      "\u001b[0;31mModuleNotFoundError\u001b[0m                       Traceback (most recent call last)",
      "\u001b[0;32m<ipython-input-6-3341c75a1a7f>\u001b[0m in \u001b[0;36m<module>\u001b[0;34m\u001b[0m\n\u001b[1;32m      3\u001b[0m \u001b[0;32mimport\u001b[0m \u001b[0mpandas\u001b[0m \u001b[0;32mas\u001b[0m \u001b[0mpd\u001b[0m\u001b[0;34m\u001b[0m\u001b[0;34m\u001b[0m\u001b[0m\n\u001b[1;32m      4\u001b[0m \u001b[0;34m\u001b[0m\u001b[0m\n\u001b[0;32m----> 5\u001b[0;31m \u001b[0;32mfrom\u001b[0m \u001b[0msrc\u001b[0m\u001b[0;34m.\u001b[0m\u001b[0mvisualisations\u001b[0m\u001b[0;34m.\u001b[0m\u001b[0mraw_data\u001b[0m \u001b[0;32mimport\u001b[0m \u001b[0mplot_enose_trial_df\u001b[0m\u001b[0;34m,\u001b[0m \u001b[0mplot_pid_trial_df\u001b[0m\u001b[0;34m\u001b[0m\u001b[0;34m\u001b[0m\u001b[0m\n\u001b[0m\u001b[1;32m      6\u001b[0m \u001b[0;32mfrom\u001b[0m \u001b[0msrc\u001b[0m\u001b[0;34m.\u001b[0m\u001b[0mutils\u001b[0m\u001b[0;34m.\u001b[0m\u001b[0mmisc\u001b[0m \u001b[0;32mimport\u001b[0m \u001b[0mget_trial_df\u001b[0m\u001b[0;34m\u001b[0m\u001b[0;34m\u001b[0m\u001b[0m\n",
      "\u001b[0;31mModuleNotFoundError\u001b[0m: No module named 'src'"
     ]
    }
   ],
   "source": [
    "from pathlib import Path\n",
    "import matplotlib.pyplot as plt\n",
    "import pandas as pd\n",
    "\n",
    "from src.visualisations.raw_data import plot_enose_trial_df, plot_pid_trial_df\n",
    "from src.utils.misc import get_trial_df"
   ]
  },
  {
   "cell_type": "code",
   "execution_count": null,
   "metadata": {},
   "outputs": [],
   "source": [
    "parent_dir = Path('/users/micas/ymolle/MachineLearning/High_speed_odour_classification/Dataset_original')    # Change this to the directory where you store the data\n",
    "\n",
    "data_dir_enose = parent_dir.joinpath('Dataset-FastMachineOlfaction/Enose')\n",
    "data_dir_pid = parent_dir.joinpath('Dataset-FastMachineOlfaction/PID/Full')\n",
    "\n",
    "assert data_dir_enose.exists(), f'{data_dir_enose} does not exist'\n",
    "assert data_dir_pid.exists(), f'{data_dir_pid} does not exist'"
   ]
  },
  {
   "cell_type": "code",
   "execution_count": null,
   "metadata": {},
   "outputs": [],
   "source": [
    "# Load and plot E-nose experiments\n",
    "\n",
    "# Load index\n",
    "index_file_enose_new = data_dir_enose.joinpath(\"index.csv\")\n",
    "index_df_enose_new = pd.read_csv(index_file_enose_new)\n",
    "\n",
    "# Plot some trials\n",
    "cmax=1\n",
    "c=0\n",
    "# Iterate over index\n",
    "for i, trial in index_df_enose_new.iterrows():\n",
    "    # Specify trial conditions\n",
    "    if trial['condition'] != 'LcycleRcycle25ms':\n",
    "        continue\n",
    "    if trial['kind'] == 'pulse':\n",
    "        continue\n",
    "\n",
    "    # Load trial data as dataframe\n",
    "    #trial_df = get_trial_df(trial, data_dir_enose, ms_start=-1000, ms_stop=5000)\n",
    "    trial_df = get_trial_df(trial, data_dir_enose)\n",
    "    trial_id = trial['trial_id']\n",
    "\n",
    "    # Plot trial data\n",
    "    plot_enose_trial_df(trial_df, trial_id)\n",
    "\n",
    "    c+=1\n",
    "    if c==cmax:\n",
    "        break"
   ]
  },
  {
   "cell_type": "code",
   "execution_count": null,
   "metadata": {},
   "outputs": [],
   "source": []
  }
 ],
 "metadata": {
  "kernelspec": {
   "display_name": ".env",
   "language": "python",
   "name": "python3"
  },
  "language_info": {
   "codemirror_mode": {
    "name": "ipython",
    "version": 3
   },
   "file_extension": ".py",
   "mimetype": "text/x-python",
   "name": "python",
   "nbconvert_exporter": "python",
   "pygments_lexer": "ipython3",
   "version": "3.6.8"
  }
 },
 "nbformat": 4,
 "nbformat_minor": 2
}
